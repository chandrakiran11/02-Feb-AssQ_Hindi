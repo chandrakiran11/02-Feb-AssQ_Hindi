{
 "cells": [
  {
   "cell_type": "markdown",
   "id": "56e23164-a6b8-48db-83a7-4b08aba2ae3a",
   "metadata": {},
   "source": [
    "Q1) Explain with an example each when to use a for loop and while loop"
   ]
  },
  {
   "cell_type": "markdown",
   "id": "01089079-61f6-4a0d-bcc8-64735db25d43",
   "metadata": {},
   "source": [
    "for loop is ist data is print and than condition is checked that it is True or False."
   ]
  },
  {
   "cell_type": "code",
   "execution_count": 33,
   "id": "f4c70594-7daa-4ec8-b352-1eb8abb76440",
   "metadata": {},
   "outputs": [
    {
     "name": "stdout",
     "output_type": "stream",
     "text": [
      "3\n"
     ]
    }
   ],
   "source": [
    "## Example of for loop adding three range\n",
    "\n",
    "sum=0\n",
    "for i in range(3):\n",
    "    sum=sum+i\n",
    "print(sum)  \n"
   ]
  },
  {
   "cell_type": "markdown",
   "id": "4de419bd-95f2-494d-b87c-c0a0a0480d60",
   "metadata": {},
   "source": [
    "In while loop first condition is checked and if conditon is true then loop is started."
   ]
  },
  {
   "cell_type": "code",
   "execution_count": 38,
   "id": "30be053a-811d-4d62-b3b4-652ca7476cfe",
   "metadata": {},
   "outputs": [
    {
     "name": "stdout",
     "output_type": "stream",
     "text": [
      "6\n"
     ]
    }
   ],
   "source": [
    "## Example of while loop adding three number\n",
    "\n",
    "sum=0\n",
    "i=1\n",
    "while i<=3:\n",
    "    sum=sum+i\n",
    "    i += 1\n",
    "print(sum)  \n"
   ]
  },
  {
   "cell_type": "code",
   "execution_count": 1,
   "id": "53e0f34d-657d-4ac2-beef-8b55b10bd759",
   "metadata": {},
   "outputs": [],
   "source": [
    "##sum the 10 natual number by for and while loop"
   ]
  },
  {
   "cell_type": "code",
   "execution_count": 49,
   "id": "92fee872-7bb6-4d01-ac48-2befb163e4ec",
   "metadata": {},
   "outputs": [
    {
     "name": "stdout",
     "output_type": "stream",
     "text": [
      "The sum of the first 10 natural numbers is: 55\n"
     ]
    }
   ],
   "source": [
    "sum=0\n",
    "for i in range(1,11):\n",
    "    sum=sum+i\n",
    "print(\"The sum of the first 10 natural numbers is:\", sum )"
   ]
  },
  {
   "cell_type": "code",
   "execution_count": 16,
   "id": "acc8564a-1283-45da-94ea-d0713f481f18",
   "metadata": {},
   "outputs": [
    {
     "name": "stdout",
     "output_type": "stream",
     "text": [
      "The sum of the first 10 natural numbers is: 55\n"
     ]
    }
   ],
   "source": [
    "sum=0\n",
    "i = 1\n",
    "\n",
    "while i <= 10:\n",
    "      sum=sum+i\n",
    "      i += 1\n",
    "print(\"The sum of the first 10 natural numbers is:\",sum)\n"
   ]
  },
  {
   "cell_type": "code",
   "execution_count": 18,
   "id": "a94a961f-43d7-4cf4-9d9f-710db2d7a262",
   "metadata": {},
   "outputs": [],
   "source": [
    "## Product the 10 natual number by for and while loop"
   ]
  },
  {
   "cell_type": "code",
   "execution_count": 46,
   "id": "8db553a5-1367-4e91-8a31-b5d5186d8072",
   "metadata": {},
   "outputs": [
    {
     "name": "stdout",
     "output_type": "stream",
     "text": [
      "The product of the first 10 natural numbers is: 3628800\n"
     ]
    }
   ],
   "source": [
    "## for loop\n",
    "product=1\n",
    "for i in range(1,11):\n",
    "    product*=i\n",
    "print(\"The product of the first 10 natural numbers is:\", product )"
   ]
  },
  {
   "cell_type": "code",
   "execution_count": 43,
   "id": "991a70ed-afa4-456f-84b1-4be8799023c5",
   "metadata": {},
   "outputs": [
    {
     "name": "stdout",
     "output_type": "stream",
     "text": [
      "The product of the first 10 natural numbers is: 3628800\n"
     ]
    }
   ],
   "source": [
    "## while loop\n",
    "product=1\n",
    "i=1\n",
    "while i<=10:\n",
    "    product*=i\n",
    "    i+=1\n",
    "print(\"The product of the first 10 natural numbers is:\", product )"
   ]
  },
  {
   "cell_type": "code",
   "execution_count": null,
   "id": "07fc8017-4092-4fe9-9e87-21631673ea23",
   "metadata": {},
   "outputs": [],
   "source": [
    "##Q 4) Create a list of numbers from 1 to 100.Use for and while loop to calculate the cube of \n",
    "each number and if the cube of that number is divisible by 4 or 5 then append that number \n",
    "in a list and print that list\n"
   ]
  },
  {
   "cell_type": "code",
   "execution_count": 50,
   "id": "fe228650-cf17-4090-a871-d656cc44434d",
   "metadata": {},
   "outputs": [
    {
     "name": "stdout",
     "output_type": "stream",
     "text": [
      "Numbers whose cube is divisible by 4 or 5: [2, 4, 5, 6, 8, 10, 12, 14, 15, 16, 18, 20, 22, 24, 25, 26, 28, 30, 32, 34, 35, 36, 38, 40, 42, 44, 45, 46, 48, 50, 52, 54, 55, 56, 58, 60, 62, 64, 65, 66, 68, 70, 72, 74, 75, 76, 78, 80, 82, 84, 85, 86, 88, 90, 92, 94, 95, 96, 98, 100]\n"
     ]
    }
   ],
   "source": [
    "numbers = list(range(1, 101))\n",
    "result = []\n",
    "\n",
    "for num in numbers:\n",
    "    cube = num ** 3\n",
    "    if cube % 4 == 0 or cube % 5 == 0:\n",
    "        result.append(num)\n",
    "\n",
    "print(\"Numbers whose cube is divisible by 4 or 5:\", result)"
   ]
  },
  {
   "cell_type": "code",
   "execution_count": 52,
   "id": "c822c104-6534-4405-89b9-af08fb16f6f6",
   "metadata": {},
   "outputs": [
    {
     "name": "stdout",
     "output_type": "stream",
     "text": [
      "[2, 4, 5, 6, 8, 10, 12, 14, 15, 16, 18, 20, 22, 24, 25, 26, 28, 30, 32, 34, 35, 36, 38, 40, 42, 44, 45, 46, 48, 50, 52, 54, 55, 56, 58, 60, 62, 64, 65, 66, 68, 70, 72, 74, 75, 76, 78, 80, 82, 84, 85, 86, 88, 90, 92, 94, 95, 96, 98, 100]\n"
     ]
    }
   ],
   "source": [
    "num_list = list(range(1, 101))\n",
    "cubes_list = []\n",
    "\n",
    "i = 0\n",
    "while i < len(num_list):\n",
    "    cube = num_list[i] ** 3\n",
    "    if cube % 4 == 0 or cube % 5 == 0:\n",
    "        cubes_list.append(num_list[i])\n",
    "    i += 1\n",
    "\n",
    "print(cubes_list)\n"
   ]
  },
  {
   "cell_type": "markdown",
   "id": "0f59400f-802e-445b-932b-fb8ec1b5b172",
   "metadata": {},
   "source": [
    "Q-3)Create a python program to compute the electricity bill for a household.\n",
    "The per-unit charges in rupees are as follows: For the first 100 units, the user will be charged Rs. 4.5 per\n",
    "unit, for the next 100 units, the user will be charged Rs. 6 per unit, and for the next 100 units, the user will\n",
    "be charged Rs. 10 per unit, After 300 units and above the user will be charged Rs. 20 per unit.\n",
    "You are required to take the units of electricity consumed in a month from the user as input.\n",
    "Your program must pass this test case: when the unit of electricity consumed by the user in a month is\n",
    "310, the total electricity bill should be 2250.\n"
   ]
  },
  {
   "cell_type": "code",
   "execution_count": 56,
   "id": "7e9090c0-e7b7-44e7-bdec-85b571ba156d",
   "metadata": {},
   "outputs": [
    {
     "name": "stdin",
     "output_type": "stream",
     "text": [
      "Enter the units of electricity consumed:  310\n"
     ]
    },
    {
     "name": "stdout",
     "output_type": "stream",
     "text": [
      "The electricity bill for 310 units is Rs. 2250.00\n"
     ]
    }
   ],
   "source": [
    "units = int(input(\"Enter the units of electricity consumed: \"))\n",
    "\n",
    "if units <= 100:\n",
    "    bill = units * 4.5\n",
    "elif units <= 200:\n",
    "    bill = 100 * 4.5 + (units - 100) * 6\n",
    "elif units <= 300:\n",
    "    bill = 100 * 4.5 + 100 * 6 + (units - 200) * 10\n",
    "else:\n",
    "    bill = 100 * 4.5 + 100 * 6 + 100 * 10 + (units - 300) * 20\n",
    "\n",
    "print(f\"The electricity bill for {units} units is Rs. {bill:.2f}\")\n"
   ]
  },
  {
   "cell_type": "markdown",
   "id": "2efd76cb-793a-43be-81d0-096e66e96e88",
   "metadata": {},
   "source": [
    "## Q-5) Write a programe to filter count vowels in the below- given string.\n",
    "string=\"I want to become a data scientist\""
   ]
  },
  {
   "cell_type": "code",
   "execution_count": 57,
   "id": "814c88e2-28d0-4e80-9409-eef5d417069f",
   "metadata": {},
   "outputs": [
    {
     "name": "stdout",
     "output_type": "stream",
     "text": [
      "Number of vowels in the string: 12\n"
     ]
    }
   ],
   "source": [
    "string = \"I want to become a data scientist\"\n",
    "vowels = \"aeiou\"\n",
    "vowel_count = 0\n",
    "\n",
    "string = string.lower()\n",
    "\n",
    "for char in string:\n",
    "    if char in vowels:\n",
    "        vowel_count += 1\n",
    "\n",
    "print(\"Number of vowels in the string:\", vowel_count)\n"
   ]
  },
  {
   "cell_type": "code",
   "execution_count": null,
   "id": "225e481e-b51e-42fb-901c-c8a178bb5a04",
   "metadata": {},
   "outputs": [],
   "source": []
  }
 ],
 "metadata": {
  "kernelspec": {
   "display_name": "Python 3 (ipykernel)",
   "language": "python",
   "name": "python3"
  },
  "language_info": {
   "codemirror_mode": {
    "name": "ipython",
    "version": 3
   },
   "file_extension": ".py",
   "mimetype": "text/x-python",
   "name": "python",
   "nbconvert_exporter": "python",
   "pygments_lexer": "ipython3",
   "version": "3.10.8"
  }
 },
 "nbformat": 4,
 "nbformat_minor": 5
}
